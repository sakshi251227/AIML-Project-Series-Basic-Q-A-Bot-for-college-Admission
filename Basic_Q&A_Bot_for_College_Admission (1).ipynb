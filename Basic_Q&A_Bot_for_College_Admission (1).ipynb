{
  "cells": [
    {
      "cell_type": "markdown",
      "source": [
        " **1. Admission-Related Q&A\n",
        "Core Functionality**\n",
        "The chatbot should be able to answer common questions related to college admissions, including procedures, requirements, and deadlines."
      ],
      "metadata": {
        "id": "wXO4SNElqCQT"
      }
    },
    {
      "cell_type": "code",
      "execution_count": 2,
      "metadata": {
        "id": "I7XBALPNDCNx"
      },
      "outputs": [],
      "source": [
        "def admission_qna(question):\n",
        "    responses = {\n",
        "        \"what are the admission requirements?\": \"The admission requirements typically include a completed application form, transcripts, standardized test scores, and letters of recommendation.\",\n",
        "        \"how do I apply?\": \"You can apply online through our admissions portal. Make sure to complete all sections of the application.\",\n",
        "        \"what is the application deadline?\": \"The application deadline for the upcoming academic year is June 1st.\",\n",
        "        \"are there any entrance exams?\": \"Yes, some programs require entrance exams such as the SAT or ACT. Please check the specific program requirements.\",\n",
        "        \"how do I check my application status?\": \"You can check your application status by logging into your account on our admissions portal.\"\n",
        "    }\n",
        "\n",
        "    return responses.get(question.lower(), \"I'm sorry, I can't answer that right now. Please try asking a different question.\")"
      ]
    },
    {
      "cell_type": "markdown",
      "source": [
        "**2. User Interaction\n",
        "Engaging Conversation Flow**\n",
        "The chatbot should facilitate a conversation where users can ask multiple questions in a single session."
      ],
      "metadata": {
        "id": "ByIVs5kgsI3E"
      }
    },
    {
      "cell_type": "code",
      "execution_count": 3,
      "metadata": {
        "id": "SKD0065XDQIl"
      },
      "outputs": [],
      "source": [
        "def chat():\n",
        "    print(\"Welcome to the College Admission Chatbot! How can I assist you with your admission queries today?\")\n",
        "\n",
        "    while True:\n",
        "        user_input = input(\"You: \")\n",
        "\n",
        "        if user_input.lower() in [\"exit\", \"bye\", \"quit\"]:\n",
        "            print(\"Chatbot: Thank you for chatting! Good luck with your admissions!\")\n",
        "            break\n",
        "\n",
        "        response = admission_qna(user_input)\n",
        "        print(\"Chatbot:\", response)"
      ]
    },
    {
      "cell_type": "markdown",
      "source": [
        "**3. Contextual Understanding\n",
        "Memory Mechanism**\n",
        "To enhance the chatbot's ability to remember previous interactions, we can store user queries and responses in a list."
      ],
      "metadata": {
        "id": "wcfNVg0isUFA"
      }
    },
    {
      "cell_type": "code",
      "execution_count": 4,
      "metadata": {
        "id": "L2DJamyBDRqQ"
      },
      "outputs": [],
      "source": [
        "conversation_history = []\n",
        "\n",
        "def remember_interaction(user_input, response):\n",
        "    conversation_history.append({\"user\": user_input, \"bot\": response})\n",
        "\n",
        "def chat():\n",
        "    print(\"Welcome to the College Admission Chatbot! How can I assist you with your admission queries today?\")\n",
        "\n",
        "    while True:\n",
        "        user_input = input(\"You: \")\n",
        "\n",
        "        if user_input.lower() in [\"exit\", \"bye\", \"quit\"]:\n",
        "            print(\"Chatbot: Thank you for chatting! Good luck with your admissions!\")\n",
        "            break\n",
        "\n",
        "        response = admission_qna(user_input)\n",
        "        remember_interaction(user_input, response)\n",
        "        print(\"Chatbot:\", response)"
      ]
    },
    {
      "cell_type": "markdown",
      "source": [
        "**4. Connection to Backend\n",
        "Integration with a Backend System**\n",
        "For real-time information, you could connect the chatbot to a backend API that provides up-to-date admission information. This requires a more advanced setup, including a web framework and database."
      ],
      "metadata": {
        "id": "e8SM4ZAOsajp"
      }
    },
    {
      "cell_type": "code",
      "execution_count": 5,
      "metadata": {
        "id": "6NICKAOtDijZ"
      },
      "outputs": [],
      "source": [
        "# Example of how to fetch data from a hypothetical backend API\n",
        "import requests\n",
        "\n",
        "def fetch_real_time_info(query):\n",
        "    response = requests.get(f\"https://www.collegeadmission.in/#google_vignette/info?query={query}\")\n",
        "    if response.status_code == 200:\n",
        "        return response.json().get('answer', \"I'm sorry, I couldn't find that information.\")\n",
        "    else:\n",
        "        return \"I'm sorry, there seems to be an issue with fetching information.\""
      ]
    },
    {
      "cell_type": "markdown",
      "source": [
        "**5. Error Handling and Feedback\n",
        "Robust Error Handling**\n",
        "Implement error handling to address unrecognized queries."
      ],
      "metadata": {
        "id": "4kjKGvyDsh_2"
      }
    },
    {
      "cell_type": "code",
      "execution_count": 6,
      "metadata": {
        "id": "EIHNiFUoDxQc"
      },
      "outputs": [],
      "source": [
        "def admission_qna(question):\n",
        "    responses = {\n",
        "        \"what are the admission requirements?\": \"The admission requirements typically include a completed application form, transcripts, standardized test scores, and letters of recommendation.\",\n",
        "        \"how do I apply?\": \"You can apply online through our admissions portal. Make sure to complete all sections of the application.\",\n",
        "        \"what is the application deadline?\": \"The application deadline for the upcoming academic year is June 1st.\",\n",
        "        \"are there any entrance exams?\": \"Yes, some programs require entrance exams such as the SAT or ACT. Please check the specific program requirements.\",\n",
        "        \"how do I check my application status?\": \"You can check your application status by logging into your account on our admissions portal.\"\n",
        "    }\n",
        "\n",
        "    if question.lower() in responses:\n",
        "        return responses[question.lower()]\n",
        "    else:\n",
        "        return \"I'm sorry, I can't answer that right now. Please try asking a different question.\""
      ]
    },
    {
      "cell_type": "code",
      "execution_count": null,
      "metadata": {
        "colab": {
          "base_uri": "https://localhost:8080/"
        },
        "id": "SVdEYQnOEbPZ",
        "outputId": "d7658470-c094-4513-96ec-afae81c52a35"
      },
      "outputs": [
        {
          "output_type": "stream",
          "name": "stdout",
          "text": [
            "Welcome to the College Admission Chatbot! How can I assist you with your admission queries today?\n",
            "You: what are the admission requirements?\n",
            "Chatbot: The admission requirements typically include a completed application form, transcripts, standardized test scores, and letters of recommendation.\n",
            "You: how do I check my application status?\n",
            "Chatbot: I'm sorry, I can't answer that right now. Please try asking a different question.\n",
            "You: are there any entrance exams?\n",
            "Chatbot: Yes, some programs require entrance exams such as the SAT or ACT. Please check the specific program requirements.\n"
          ]
        }
      ],
      "source": [
        "conversation_history = []\n",
        "\n",
        "def remember_interaction(user_input, response):\n",
        "    conversation_history.append({\"user\": user_input, \"bot\": response})\n",
        "\n",
        "def chat():\n",
        "    print(\"Welcome to the College Admission Chatbot! How can I assist you with your admission queries today?\")\n",
        "\n",
        "    while True:\n",
        "        user_input = input(\"You: \")\n",
        "\n",
        "        if user_input.lower() in [\"exit\", \"bye\", \"quit\"]:\n",
        "            print(\"Chatbot: Thank you for chatting! Good luck with your admissions!\")\n",
        "            break\n",
        "\n",
        "        response = admission_qna(user_input)\n",
        "        remember_interaction(user_input, response)\n",
        "        print(\"Chatbot:\", response)\n",
        "\n",
        "# Start the chatbot\n",
        "if __name__ == \"__main__\":\n",
        "    chat()"
      ]
    }
  ],
  "metadata": {
    "colab": {
      "provenance": []
    },
    "kernelspec": {
      "display_name": "Python 3",
      "name": "python3"
    },
    "language_info": {
      "name": "python"
    }
  },
  "nbformat": 4,
  "nbformat_minor": 0
}